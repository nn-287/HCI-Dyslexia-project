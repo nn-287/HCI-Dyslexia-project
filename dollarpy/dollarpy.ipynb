{
 "cells": [
  {
   "cell_type": "code",
   "execution_count": null,
   "id": "0ae0554b",
   "metadata": {},
   "outputs": [],
   "source": [
    "import mediapipe as mp\n",
    "import math\n",
    "import cv2\n",
    "import random\n",
    "import cvzone\n",
    "import numpy as np\n",
    "from cvzone.HandTrackingModule import HandDetector\n",
    "from dollarpy import Recognizer, Template, Point\n"
   ]
  },
  {
   "cell_type": "code",
   "execution_count": null,
   "id": "65fc30f2",
   "metadata": {},
   "outputs": [],
   "source": [
    "\n",
    "detector=HandDetector(detectionCon=0.8,maxHands=1)\n"
   ]
  },
  {
   "cell_type": "code",
   "execution_count": null,
   "id": "985cb77f",
   "metadata": {},
   "outputs": [],
   "source": [
    "def getPoint(videopath):\n",
    "\n",
    "    listpoints=[]\n",
    "    cap=cv2.VideoCapture(videopath);\n",
    "    while cap.isOpened():\n",
    "        success , img=cap.read();\n",
    "        if success == True:\n",
    "            img=cv2.flip(img,1)\n",
    "            hands,img=detector.findHands(img,flipType =False)\n",
    "            if hands:# if i detect at least one hand\n",
    "                lmlist=hands[0][\"lmList\"]\n",
    "                pointIndex=lmlist[8][0:2]\n",
    "                #pointIndex.append(8)\n",
    "                listpoints.append(Point(pointIndex[0],pointIndex[1],8))\n",
    "\n",
    "            cv2.imshow(\"img\", img)\n",
    "                    \n",
    "                      \n",
    "          \n",
    "            \n",
    "        else:\n",
    "            break\n",
    "   \n",
    "    return listpoints\n",
    "    "
   ]
  },
  {
   "cell_type": "code",
   "execution_count": null,
   "id": "2ffa9b7f",
   "metadata": {},
   "outputs": [],
   "source": [
    "def getPoint2(vidPath,testvariable):\n",
    "    \n",
    "        \n",
    "        ct = 0\n",
    "        ct2=0\n",
    "        listpoints = []\n",
    "        resultslist= []\n",
    "        cap=cv2.VideoCapture(0);\n",
    "        while True:\n",
    "            success , img=cap.read();\n",
    "            img=cv2.flip(img,1)\n",
    "            ct+=1\n",
    "            if ct==100:\n",
    "                \n",
    "                results = reco.recognize(listpoints)\n",
    "                resultslist.append(results[0])\n",
    "                #print(results)\n",
    "                if results[0] == testvariable:\n",
    "                    return 1\n",
    "                \n",
    "                    # return ct2\n",
    "                    # print(soundvar)\n",
    "                    # tts = gTTS(soundvar)\n",
    "                    # tts.save('hello.mp3')\n",
    "                    # os.system(\"start hello.mp3\")\n",
    "                ct=0\n",
    "                \n",
    "            # Recolor Feed\n",
    "      \n",
    "            hands,img=detector.findHands(img,flipType =False)\n",
    "            \n",
    "            if hands:# if i detect at least one hand\n",
    "                \n",
    "                lmlist=hands[0][\"lmList\"]\n",
    "                pointIndex=lmlist[8][0:2]\n",
    "                #pointIndex.append(8)\n",
    "                listpoints.append(Point(pointIndex[0],pointIndex[1],8))\n",
    "            \n",
    "            \n",
    "            \n",
    "            cv2.imshow(\"img\", img)\n",
    "            if (cv2.waitKey(1)== ord('q')):\n",
    "                break\n",
    "\n",
    "\n",
    "\n"
   ]
  },
  {
   "cell_type": "code",
   "execution_count": null,
   "id": "4a92cd21",
   "metadata": {},
   "outputs": [],
   "source": [
    "classes=[]\n",
    "pth = \"circle1.mp4\"#path of video\n",
    "points2 = getPoint(pth)\n",
    "tmp = Template('circle',points2)\n",
    "classes.append(tmp)\n",
    "\n",
    "pth = \"circle2.mp4\"#path of video\n",
    "points2 = getPoint(pth)\n",
    "tmp = Template('circle',points2)\n",
    "classes.append(tmp)\n",
    "\n",
    "\n",
    "reco= Recognizer(classes)\n",
    "ct=0\n",
    "if getPoint2(0,'circle') ==1:\n",
    "    print(\"circle good\")\n",
    "    \n",
    "    \n",
    " \n"
   ]
  },
  {
   "cell_type": "code",
   "execution_count": null,
   "id": "07a493d4",
   "metadata": {},
   "outputs": [],
   "source": [
    "\n",
    "    "
   ]
  },
  {
   "cell_type": "code",
   "execution_count": null,
   "id": "c64d4a5c",
   "metadata": {},
   "outputs": [],
   "source": []
  }
 ],
 "metadata": {
  "kernelspec": {
   "display_name": "Python 3 (ipykernel)",
   "language": "python",
   "name": "python3"
  },
  "language_info": {
   "codemirror_mode": {
    "name": "ipython",
    "version": 3
   },
   "file_extension": ".py",
   "mimetype": "text/x-python",
   "name": "python",
   "nbconvert_exporter": "python",
   "pygments_lexer": "ipython3",
   "version": "3.9.13"
  }
 },
 "nbformat": 4,
 "nbformat_minor": 5
}
