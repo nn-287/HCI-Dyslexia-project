{
 "cells": [
  {
   "cell_type": "code",
   "execution_count": 15,
   "id": "e5d93533",
   "metadata": {},
   "outputs": [
    {
     "name": "stdout",
     "output_type": "stream",
     "text": [
      "^C\n",
      "Note: you may need to restart the kernel to use updated packages.\n"
     ]
    }
   ],
   "source": [
    "pip uninstall opencv-python"
   ]
  },
  {
   "cell_type": "code",
   "execution_count": null,
   "id": "0f1aef08",
   "metadata": {},
   "outputs": [],
   "source": [
    "pip uninstall opencv-contrib-python"
   ]
  },
  {
   "cell_type": "code",
   "execution_count": 1,
   "id": "073d2813",
   "metadata": {},
   "outputs": [
    {
     "name": "stdout",
     "output_type": "stream",
     "text": [
      "Requirement already satisfied: pillow in d:\\user2\\lib\\site-packages (9.2.0)\n",
      "Note: you may need to restart the kernel to use updated packages.\n"
     ]
    }
   ],
   "source": [
    " pip install pillow"
   ]
  },
  {
   "cell_type": "code",
   "execution_count": 5,
   "id": "11f7d42d",
   "metadata": {},
   "outputs": [],
   "source": [
    "import os\n",
    "import cv2\n",
    "import pylab as pl\n",
    "import matplotlib.cm as cm\n",
    "import numpy as np"
   ]
  },
  {
   "cell_type": "code",
   "execution_count": 6,
   "id": "d1278944",
   "metadata": {},
   "outputs": [],
   "source": [
    "from PIL import Image\n",
    "import pickle"
   ]
  },
  {
   "cell_type": "code",
   "execution_count": 7,
   "id": "9a864852",
   "metadata": {},
   "outputs": [],
   "source": [
    "face_cascade = cv2.CascadeClassifier(cv2.data.haarcascades + 'haarcascade_frontalface_default.xml')\n",
    "recognizer = cv2.face.LBPHFaceRecognizer_create()\n",
    "#recognizer.read(\"trainner.yml\")"
   ]
  },
  {
   "cell_type": "code",
   "execution_count": 17,
   "id": "8d83d204",
   "metadata": {},
   "outputs": [
    {
     "name": "stdout",
     "output_type": "stream",
     "text": [
      "nancy C:\\Users\\User\\images/Nancy\\1.jpg\n",
      "nancy C:\\Users\\User\\images/Nancy\\10.jpg\n",
      "nancy C:\\Users\\User\\images/Nancy\\11.jpg\n",
      "nancy C:\\Users\\User\\images/Nancy\\12.jpg\n",
      "nancy C:\\Users\\User\\images/Nancy\\13.jpg\n",
      "nancy C:\\Users\\User\\images/Nancy\\14.jpg\n",
      "nancy C:\\Users\\User\\images/Nancy\\15.jpg\n",
      "nancy C:\\Users\\User\\images/Nancy\\2.jpg\n",
      "nancy C:\\Users\\User\\images/Nancy\\3.jpg\n",
      "nancy C:\\Users\\User\\images/Nancy\\4.jpg\n",
      "nancy C:\\Users\\User\\images/Nancy\\5.jpg\n",
      "nancy C:\\Users\\User\\images/Nancy\\6.jpg\n",
      "nancy C:\\Users\\User\\images/Nancy\\7.jpg\n",
      "nancy C:\\Users\\User\\images/Nancy\\8.jpg\n",
      "nancy C:\\Users\\User\\images/Nancy\\9.jpg\n"
     ]
    }
   ],
   "source": [
    "BASE_DIR = os.path.dirname(os.path.abspath('__file__'))\n",
    "image_dir = os.path.join(BASE_DIR,\"images/Nancy\")\n",
    "\n",
    "current_id = 0\n",
    "label_ids = {}\n",
    "y_labels = []\n",
    "x_train = []\n",
    "\n",
    "for root,dirs,files in os.walk(image_dir):\n",
    "    for file in files:\n",
    "        if file.endswith(\"jpg\"):\n",
    "            path = os.path.join(root,file)\n",
    "            label = os.path.basename(os.path.dirname(path)).replace(\" \",\"-\").lower()\n",
    "            print(label,path)\n",
    "            if not label in label_ids:\n",
    "                \n",
    "                label_ids[label] = current_id\n",
    "                current_id += 1\n",
    "            id_ = label_ids[label]\n",
    "            #print(label_ids)\n",
    "            #y_labels.append(label)\n",
    "            #x_train.append(path)\n",
    "            pil_image = Image.open(path).convert(\"L\")\n",
    "            size = (550,550)\n",
    "            #final_image = pil_image.resize(size, Image.ANTIALIAS)\n",
    "            image_array = np.array(pil_image,\"uint8\")\n",
    "            #print(image_array)\n",
    "            faces = face_cascade.detectMultiScale(image_array, 1.5, 5)\n",
    "            \n",
    "            \n",
    "            for (x,y,w,h) in faces:\n",
    "                \n",
    "                roi = image_array[y:y+h, x:x+w]\n",
    "                x_train.append(roi)\n",
    "                y_labels.append(id_)\n",
    "                \n",
    "                \n",
    "                \n",
    "with open(\"labels.pickle\",'wb')as f:\n",
    "    \n",
    "    pickle.dump(label_ids,f)\n",
    "    \n",
    "    \n",
    "recognizer.train(x_train, np.array(y_labels))\n",
    "recognizer.save(\"trainner.yml\")\n"
   ]
  },
  {
   "cell_type": "code",
   "execution_count": null,
   "id": "fc786ef6",
   "metadata": {},
   "outputs": [],
   "source": []
  }
 ],
 "metadata": {
  "kernelspec": {
   "display_name": "Python 3 (ipykernel)",
   "language": "python",
   "name": "python3"
  },
  "language_info": {
   "codemirror_mode": {
    "name": "ipython",
    "version": 3
   },
   "file_extension": ".py",
   "mimetype": "text/x-python",
   "name": "python",
   "nbconvert_exporter": "python",
   "pygments_lexer": "ipython3",
   "version": "3.9.13"
  }
 },
 "nbformat": 4,
 "nbformat_minor": 5
}
