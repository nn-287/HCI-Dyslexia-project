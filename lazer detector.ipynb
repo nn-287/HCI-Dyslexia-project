{
 "cells": [
  {
   "cell_type": "code",
   "execution_count": 1,
   "id": "3b3327a4",
   "metadata": {},
   "outputs": [],
   "source": [
    "import cv2\n",
    "import numpy as np\n",
    "\n",
    "cap = cv2.VideoCapture(0)\n",
    "\n",
    "pts = []\n",
    "while (1):\n",
    "\n",
    "    # Take each frame\n",
    "    ret, frame = cap.read()\n",
    "    RGB = cv2.cvtColor(frame, cv2.COLOR_BGR2HSV)\n",
    "    \n",
    "\n",
    "    lower_red = np.array([0, 0, 255])\n",
    "    upper_red = np.array([255, 255, 255])\n",
    "    mask = cv2.inRange(RGB, lower_red, upper_red)\n",
    "    (minVal, maxVal, minLoc, maxLoc) = cv2.minMaxLoc(mask)\n",
    "    font = cv2.FONT_HERSHEY_SIMPLEX\n",
    "    hello = maxLoc\n",
    "\n",
    "    \n",
    "    if hello[1]<300:\n",
    "        cv2.putText(frame, \"wrong\",(50, 120), font, 2, (0, 255, 255), 5, cv2.LINE_4)\n",
    "    if hello[1]>300:\n",
    "        cv2.putText(frame, \"correct\",(50, 120), font, 2, (0, 255, 255), 5, cv2.LINE_4)\n",
    "    \n",
    "    \n",
    "    cv2.circle(frame, maxLoc, 20, (0, 0, 255), 2, cv2.LINE_AA)\n",
    "    cv2.imshow('Track Laser', frame)\n",
    "    \n",
    "\n",
    "    if cv2.waitKey(1) & 0xFF == ord('q'):\n",
    "        break\n",
    "        \n",
    "cap.release()\n",
    "cv2.destroyAllWindows()"
   ]
  },
  {
   "cell_type": "code",
   "execution_count": null,
   "id": "33a3343f",
   "metadata": {},
   "outputs": [],
   "source": []
  }
 ],
 "metadata": {
  "kernelspec": {
   "display_name": "Python 3 (ipykernel)",
   "language": "python",
   "name": "python3"
  },
  "language_info": {
   "codemirror_mode": {
    "name": "ipython",
    "version": 3
   },
   "file_extension": ".py",
   "mimetype": "text/x-python",
   "name": "python",
   "nbconvert_exporter": "python",
   "pygments_lexer": "ipython3",
   "version": "3.9.13"
  }
 },
 "nbformat": 4,
 "nbformat_minor": 5
}
